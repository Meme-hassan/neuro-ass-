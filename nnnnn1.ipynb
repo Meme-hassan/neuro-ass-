{
 "cells": [
  {
   "cell_type": "code",
   "execution_count": 1,
   "metadata": {},
   "outputs": [
    {
     "name": "stdout",
     "output_type": "stream",
     "text": [
      "Output of the network: 0.602445066554228\n"
     ]
    }
   ],
   "source": [
    "def tanh(x):\n",
    "    return (2 / (1 + (2.71828 ** (-2 * x)))) - 1\n",
    "\n",
    "def random_weight():\n",
    "    return -0.5 + (0.5 - (-0.5)) * (hash(str(id(object()))) % 1000) / 1000\n",
    "\n",
    "x1, x2 = 0.3, -0.7\n",
    "\n",
    "w11, w12 = random_weight(), random_weight()\n",
    "w21, w22 = random_weight(), random_weight()\n",
    "w1_out, w2_out = random_weight(), random_weight()\n",
    "\n",
    "b1, b2 = 0.5, 0.7\n",
    "\n",
    "h1 = tanh(x1 * w11 + x2 * w12 + b1)\n",
    "h2 = tanh(x1 * w21 + x2 * w22 + b1)\n",
    "y = tanh(h1 * w1_out + h2 * w2_out + b2)\n",
    "\n",
    "print(\"Output of the network:\", y)\n"
   ]
  },
  {
   "cell_type": "code",
   "execution_count": null,
   "metadata": {},
   "outputs": [],
   "source": []
  }
 ],
 "metadata": {
  "kernelspec": {
   "display_name": "base",
   "language": "python",
   "name": "python3"
  },
  "language_info": {
   "codemirror_mode": {
    "name": "ipython",
    "version": 3
   },
   "file_extension": ".py",
   "mimetype": "text/x-python",
   "name": "python",
   "nbconvert_exporter": "python",
   "pygments_lexer": "ipython3",
   "version": "3.9.13"
  }
 },
 "nbformat": 4,
 "nbformat_minor": 2
}
