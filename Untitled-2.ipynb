{
 "cells": [
  {
   "cell_type": "code",
   "execution_count": 1,
   "metadata": {},
   "outputs": [
    {
     "name": "stdout",
     "output_type": "stream",
     "text": [
      "Output before backpropagation: 0.8262730610254391 0.8114167777943713\n",
      "Total Error: 0.27968226321230305\n",
      "Updated weights: {'w1': 0.24900695738083684, 'w2': 0.14900695738083683, 'w3': 0.3495010673653945, 'w4': 0.39950106736539454, 'w5': 0.5423784575208045, 'w6': 0.4417209196742494, 'w7': 0.251997744151351, 'w8': 0.6021700967152621}\n",
      "Updated biases: {'b1': 0.5985080247462313, 'b2': 0.7923073218860471}\n",
      "Output after backpropagation: 0.8233266223830107 0.8106617497890323\n"
     ]
    }
   ],
   "source": [
    "def sigmoid(x):\n",
    "    return 1 / (1 + 2.718281828459045 ** (-x))\n",
    "\n",
    "def sigmoid_derivative(x):\n",
    "    sig = sigmoid(x)\n",
    "    return sig * (1 - sig)\n",
    "\n",
    "# Initialize weights and biases\n",
    "weights = {\n",
    "    \"w1\": 0.25, \"w2\": 0.15, \"w3\": 0.35, \"w4\": 0.4,\n",
    "    \"w5\": 0.55, \"w6\": 0.45, \"w7\": 0.25, \"w8\": 0.6\n",
    "}\n",
    "biases = {\"b1\": 0.6, \"b2\": 0.8}\n",
    "\n",
    "# Inputs and targets\n",
    "i1, i2 = 1, 1\n",
    "targets = {\"o1\": 0.1, \"o2\": 0.99}\n",
    "learning_rate = 0.1\n",
    "\n",
    "# Forward pass\n",
    "net_h1 = weights[\"w1\"] * i1 + weights[\"w2\"] * i2 + biases[\"b1\"]\n",
    "net_h2 = weights[\"w3\"] * i1 + weights[\"w4\"] * i2 + biases[\"b1\"]\n",
    "out_h1, out_h2 = sigmoid(net_h1), sigmoid(net_h2)\n",
    "\n",
    "net_o1 = weights[\"w5\"] * out_h1 + weights[\"w6\"] * out_h2 + biases[\"b2\"]\n",
    "net_o2 = weights[\"w7\"] * out_h1 + weights[\"w8\"] * out_h2 + biases[\"b2\"]\n",
    "out_o1, out_o2 = sigmoid(net_o1), sigmoid(net_o2)\n",
    "\n",
    "error_o1 = 0.5 * (targets[\"o1\"] - out_o1) ** 2\n",
    "error_o2 = 0.5 * (targets[\"o2\"] - out_o2) ** 2\n",
    "total_error = error_o1 + error_o2\n",
    "\n",
    "# Backpropagation\n",
    "delta_o1 = (out_o1 - targets[\"o1\"]) * sigmoid_derivative(net_o1)\n",
    "delta_o2 = (out_o2 - targets[\"o2\"]) * sigmoid_derivative(net_o2)\n",
    "\n",
    "delta_h1 = (delta_o1 * weights[\"w5\"] + delta_o2 * weights[\"w7\"]) * sigmoid_derivative(net_h1)\n",
    "delta_h2 = (delta_o1 * weights[\"w6\"] + delta_o2 * weights[\"w8\"]) * sigmoid_derivative(net_h2)\n",
    "\n",
    "# Update weights and biases\n",
    "for key, value in {\"w1\": (delta_h1 * i1), \"w2\": (delta_h1 * i2), \"w3\": (delta_h2 * i1), \"w4\": (delta_h2 * i2),\n",
    "                   \"w5\": (delta_o1 * out_h1), \"w6\": (delta_o1 * out_h2), \"w7\": (delta_o2 * out_h1), \"w8\": (delta_o2 * out_h2)}.items():\n",
    "    weights[key] -= learning_rate * value\n",
    "\n",
    "biases[\"b1\"] -= learning_rate * (delta_h1 + delta_h2)\n",
    "biases[\"b2\"] -= learning_rate * (delta_o1 + delta_o2)\n",
    "\n",
    "# Forward pass after weight update\n",
    "net_h1_new = weights[\"w1\"] * i1 + weights[\"w2\"] * i2 + biases[\"b1\"]\n",
    "net_h2_new = weights[\"w3\"] * i1 + weights[\"w4\"] * i2 + biases[\"b1\"]\n",
    "out_h1_new, out_h2_new = sigmoid(net_h1_new), sigmoid(net_h2_new)\n",
    "\n",
    "net_o1_new = weights[\"w5\"] * out_h1_new + weights[\"w6\"] * out_h2_new + biases[\"b2\"]\n",
    "net_o2_new = weights[\"w7\"] * out_h1_new + weights[\"w8\"] * out_h2_new + biases[\"b2\"]\n",
    "out_o1_new, out_o2_new = sigmoid(net_o1_new), sigmoid(net_o2_new)\n",
    "\n",
    "print(\"Output before backpropagation:\", out_o1, out_o2)\n",
    "print(\"Total Error:\", total_error)\n",
    "print(\"Updated weights:\", weights)\n",
    "print(\"Updated biases:\", biases)\n",
    "print(\"Output after backpropagation:\", out_o1_new, out_o2_new)"
   ]
  },
  {
   "cell_type": "code",
   "execution_count": null,
   "metadata": {},
   "outputs": [],
   "source": []
  }
 ],
 "metadata": {
  "kernelspec": {
   "display_name": "base",
   "language": "python",
   "name": "python3"
  },
  "language_info": {
   "codemirror_mode": {
    "name": "ipython",
    "version": 3
   },
   "file_extension": ".py",
   "mimetype": "text/x-python",
   "name": "python",
   "nbconvert_exporter": "python",
   "pygments_lexer": "ipython3",
   "version": "3.9.13"
  }
 },
 "nbformat": 4,
 "nbformat_minor": 2
}
